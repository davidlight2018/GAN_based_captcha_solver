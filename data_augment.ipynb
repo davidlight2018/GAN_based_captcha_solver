{
 "cells": [
  {
   "cell_type": "code",
   "execution_count": 1,
   "metadata": {},
   "outputs": [
    {
     "name": "stderr",
     "output_type": "stream",
     "text": [
      "Using TensorFlow backend.\n"
     ]
    }
   ],
   "source": [
    "from keras.preprocessing.image import ImageDataGenerator\n",
    "from PIL import Image\n",
    "import numpy as np\n",
    "import csv"
   ]
  },
  {
   "cell_type": "code",
   "execution_count": 2,
   "metadata": {},
   "outputs": [],
   "source": [
    "#outputcsv = open('./data_augment/data_augment_with_rect/captcha_train.csv', 'w', encoding = 'utf8', newline = '') # 輸出csv\n",
    "inputcsv = open('./test_image/test_image_with_rect/validate.csv', 'r', encoding = 'utf8')\n",
    "data = [np.array(Image.open('./test_image/test_image_with_rect/' + row[0] + \".jpg\")) for row in csv.reader(inputcsv)] # 只讀答案是6位的\n",
    "inputcsv = open('./test_image/test_image_with_rect/validate.csv', 'r', encoding = 'utf8')\n",
    "oldanswer = [row[1] for row in csv.reader(inputcsv)]"
   ]
  },
  {
   "cell_type": "code",
   "execution_count": 7,
   "metadata": {},
   "outputs": [],
   "source": [
    "answer = []\n",
    "datagen = ImageDataGenerator(rotation_range=5,shear_range=0.2,zoom_range=0.05,fill_mode='nearest',data_format=\"channels_last\")\n",
    "index, augmentindex, oldanswerindex = 0, 0, 0\n",
    "for i, img in enumerate(data):\n",
    "#     if img.shape != (42, 110):\n",
    "#         print(i, img.shape)\n",
    "#         break\n",
    "        #img = img[:42, :110]\n",
    "    #for batch in datagen.flow(np.asarray([img]).reshape(1, 42, 110, 3), batch_size=1):\n",
    "    for batch in datagen.flow(np.asarray([img]), batch_size=1):\n",
    "        index += 1\n",
    "        augmentindex += 1\n",
    "        batch = batch.reshape((42,110,3))\n",
    "        Image.fromarray(np.uint8(batch)).convert(\"RGB\").save(\"./data_augment/data_augment_with_rect/\" + str(index) + \".jpg\", \"JPEG\")\n",
    "        answer.append((str(index), oldanswer[oldanswerindex]))\n",
    "        if augmentindex >= 50: # 每張產生50個\n",
    "            oldanswerindex += 1\n",
    "            augmentindex = 0\n",
    "            break\n",
    "#csv.writer(outputcsv).writerows(answer)"
   ]
  },
  {
   "cell_type": "code",
   "execution_count": 8,
   "metadata": {},
   "outputs": [],
   "source": [
    "import pandas as pd\n",
    "df = pd.DataFrame(answer)\n",
    "df.to_csv('./data_augment/data_augment_with_rect/captcha_train.csv', index=False, header=False)"
   ]
  },
  {
   "cell_type": "code",
   "execution_count": null,
   "metadata": {},
   "outputs": [],
   "source": []
  },
  {
   "cell_type": "code",
   "execution_count": 4,
   "metadata": {},
   "outputs": [
    {
     "name": "stdout",
     "output_type": "stream",
     "text": [
      "857 (42, 111)\n",
      "1072 (42, 111)\n",
      "1324 (42, 111)\n",
      "1472 (42, 111)\n",
      "1497 (42, 111)\n",
      "1709 (42, 111)\n",
      "2076 (42, 111)\n",
      "2216 (42, 111)\n",
      "2670 (42, 111)\n",
      "2773 (42, 111)\n",
      "2815 (42, 111)\n",
      "2909 (42, 111)\n"
     ]
    }
   ],
   "source": [
    "answer = []\n",
    "datagen = ImageDataGenerator(rotation_range=5,shear_range=0.2,zoom_range=0.05,fill_mode='nearest',data_format=\"channels_last\")\n",
    "index, augmentindex, oldanswerindex = 0, 0, 0\n",
    "for i, img in enumerate(data):\n",
    "    if img.shape != (42, 110):\n",
    "        print(i, img.shape)\n",
    "        img = img[:42, :110]\n",
    "    for batch in datagen.flow(np.asarray([img]).reshape(1, 42, 110, 1), batch_size=1):\n",
    "        index += 1\n",
    "        augmentindex += 1\n",
    "        batch = batch.reshape((42,110))\n",
    "        Image.fromarray(np.uint8(batch)).convert(\"L\").save(\"./data_augment/\" + str(index) + \".jpg\", \"JPEG\")\n",
    "        answer.append((str(index), oldanswer[oldanswerindex]))\n",
    "        if augmentindex >= 50: # 每張產生50個\n",
    "            oldanswerindex += 1\n",
    "            augmentindex = 0\n",
    "            break\n",
    "csv.writer(outputcsv).writerows(answer)"
   ]
  },
  {
   "cell_type": "code",
   "execution_count": 14,
   "metadata": {},
   "outputs": [
    {
     "data": {
      "text/plain": [
       "array([[[[255, 255, 255, ..., 255, 255, 255],\n",
       "         [255, 255, 255, ..., 255, 255, 255],\n",
       "         [255, 255, 255, ..., 255, 255, 255],\n",
       "         ...,\n",
       "         [255, 255, 255, ..., 255, 255, 255],\n",
       "         [255, 255, 255, ..., 255, 255, 255],\n",
       "         [255, 255, 255, ..., 255, 255, 255]]]], dtype=uint8)"
      ]
     },
     "execution_count": 14,
     "metadata": {},
     "output_type": "execute_result"
    }
   ],
   "source": [
    "np.asarray([data[0]]).reshape(1, 1, 42, 110)"
   ]
  },
  {
   "cell_type": "code",
   "execution_count": 5,
   "metadata": {},
   "outputs": [
    {
     "data": {
      "text/plain": [
       "4620"
      ]
     },
     "execution_count": 5,
     "metadata": {},
     "output_type": "execute_result"
    }
   ],
   "source": [
    "img.size"
   ]
  },
  {
   "cell_type": "code",
   "execution_count": 5,
   "metadata": {},
   "outputs": [
    {
     "data": {
      "text/plain": [
       "150800"
      ]
     },
     "execution_count": 5,
     "metadata": {},
     "output_type": "execute_result"
    }
   ],
   "source": [
    "index"
   ]
  },
  {
   "cell_type": "code",
   "execution_count": 6,
   "metadata": {},
   "outputs": [
    {
     "data": {
      "text/plain": [
       "150800"
      ]
     },
     "execution_count": 6,
     "metadata": {},
     "output_type": "execute_result"
    }
   ],
   "source": [
    "len(answer)"
   ]
  },
  {
   "cell_type": "code",
   "execution_count": 7,
   "metadata": {},
   "outputs": [],
   "source": [
    "outputcsv = open('./data_augment/captcha_train.csv', 'w', encoding = 'utf8', newline = '') # 輸出csv\n",
    "csv.writer(outputcsv).writerows(answer)"
   ]
  },
  {
   "cell_type": "code",
   "execution_count": 10,
   "metadata": {},
   "outputs": [],
   "source": [
    "import pandas as pd\n",
    "df = pd.DataFrame(answer)\n",
    "df.to_csv('./data_augment/captcha_train.csv', index=False, header=False)"
   ]
  },
  {
   "cell_type": "code",
   "execution_count": null,
   "metadata": {},
   "outputs": [],
   "source": []
  }
 ],
 "metadata": {
  "kernelspec": {
   "display_name": "Python 3",
   "language": "python",
   "name": "python3"
  },
  "language_info": {
   "codemirror_mode": {
    "name": "ipython",
    "version": 3
   },
   "file_extension": ".py",
   "mimetype": "text/x-python",
   "name": "python",
   "nbconvert_exporter": "python",
   "pygments_lexer": "ipython3",
   "version": "3.6.6"
  }
 },
 "nbformat": 4,
 "nbformat_minor": 2
}
